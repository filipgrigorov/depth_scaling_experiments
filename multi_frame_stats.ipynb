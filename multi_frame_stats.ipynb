{
 "cells": [
  {
   "cell_type": "code",
   "execution_count": 1,
   "metadata": {},
   "outputs": [],
   "source": [
    "import matplotlib.pyplot as plt\n",
    "import numpy as np\n",
    "\n",
    "%matplotlib inline"
   ]
  },
  {
   "cell_type": "code",
   "execution_count": 2,
   "metadata": {},
   "outputs": [
    {
     "name": "stdout",
     "output_type": "stream",
     "text": [
      "mean:  0.7485714285714286\n",
      "std:  2.562136385351658\n"
     ]
    }
   ],
   "source": [
    "preds = [0.92, 0.95, 0.45, 0.15, 0.89, 0.98, 0.90]\n",
    "\n",
    "mean = 0.0\n",
    "std = 0.0\n",
    "\n",
    "count = 1\n",
    "for i in range(0, len(preds)):\n",
    "    mean += preds[i]\n",
    "    \n",
    "    std += np.square(preds[i] - mean)\n",
    "    \n",
    "mean /= len(preds)\n",
    "std /= len(preds)\n",
    "std = np.sqrt(std)\n",
    "    \n",
    "print('mean: ', mean)\n",
    "print('std: ', std)"
   ]
  },
  {
   "cell_type": "code",
   "execution_count": 3,
   "metadata": {},
   "outputs": [
    {
     "name": "stdout",
     "output_type": "stream",
     "text": [
      "mean:  0.7585514097961082\n"
     ]
    }
   ],
   "source": [
    "beta = 0.9\n",
    "\n",
    "mean = preds[-1]\n",
    "prev = beta**0\n",
    "\n",
    "count = 0\n",
    "for p in preds[-2::-1]:\n",
    "    w = beta**(count + 1)\n",
    "    mean += p * w\n",
    "    prev += w\n",
    "    count += 1\n",
    "    \n",
    "mean /= prev\n",
    "     \n",
    "print('mean: ', mean)"
   ]
  },
  {
   "cell_type": "code",
   "execution_count": 4,
   "metadata": {},
   "outputs": [
    {
     "name": "stdout",
     "output_type": "stream",
     "text": [
      "mean:  0.8203125\n"
     ]
    }
   ],
   "source": [
    "mean = preds[-1]\n",
    "\n",
    "for p in preds[-2::-1]:\n",
    "    mean += p\n",
    "    mean *= 0.5\n",
    "    \n",
    "print('mean: ', mean)"
   ]
  },
  {
   "cell_type": "code",
   "execution_count": 5,
   "metadata": {},
   "outputs": [
    {
     "name": "stdout",
     "output_type": "stream",
     "text": [
      "\n",
      "mu1=  0.7485714285714286\n",
      "mu2=  0.36571428571428566\n",
      "\n",
      "std1=  0.2961384122056331\n",
      "std2=  0.11806259149368221\n",
      "\n",
      "[0.578879889818328, 0.6801838705365351, -1.0082158081002541, -2.0212556152823278, 0.47757590910012054, 0.7814878512547425, 0.5113439026728563]\n",
      "[0.5445053634042448, -2.1659213344302164, 0.8833087006335523, -0.30250297966902406, -0.13310131105437056, 0.12100119186761037, 1.0527103692482063]\n",
      "\n",
      "[0.578879889818328, 0.47757590910012054, 0.5113439026728563]\n",
      "[-0.13310131105437056, 0.12100119186761037]\n",
      "spoof\n",
      "real\n"
     ]
    }
   ],
   "source": [
    "p1 = [0.92, 0.95, 0.45, 0.15, 0.89, 0.98, 0.90]\n",
    "p2 = [0.43, 0.11, 0.47, 0.33, 0.35, 0.38, 0.49]\n",
    "\n",
    "mu1 = np.mean(p1)\n",
    "mu2 = np.mean(p2)\n",
    "\n",
    "print('\\nmu1= ', mu1)\n",
    "print('mu2= ', mu2)\n",
    "\n",
    "std1 = np.std(p1)\n",
    "std2 = np.std(p2)\n",
    "\n",
    "print('\\nstd1= ', std1)\n",
    "print('std2= ', std2)\n",
    "\n",
    "p1_norm = []\n",
    "p2_norm = []\n",
    "\n",
    "for i in range(0, len(p1)):\n",
    "    p1_norm.append((p1[i] - mu1) / std1)\n",
    "    \n",
    "for i in range(0, len(p2)):\n",
    "    p2_norm.append((p2[i] - mu2) / std2)\n",
    "\n",
    "print('')\n",
    "    \n",
    "print(p1_norm)\n",
    "print(p2_norm)\n",
    "\n",
    "filtered_p1 = []\n",
    "filtered_p2 = []\n",
    "\n",
    "for i in range(0, len(p1_norm)):\n",
    "    if np.abs(p1_norm[i]) <= 2 * std1:\n",
    "        filtered_p1.append(p1_norm[i])\n",
    "        \n",
    "for i in range(0, len(p2_norm)):\n",
    "    if np.abs(p2_norm[i]) <= 2 * std2:\n",
    "        filtered_p2.append(p2_norm[i])\n",
    "        \n",
    "print('')\n",
    "print(filtered_p1)\n",
    "print(filtered_p2)\n",
    "\n",
    "ave_mu1 = np.mean(filtered_p1) * std1 + mu1\n",
    "ave_mu2 = np.mean(filtered_p2) * std2 + mu2\n",
    "\n",
    "print('spoof' if ave_mu1 > 0.7 else 'real')\n",
    "print('spoof' if ave_mu2> 0.7 else 'real')"
   ]
  },
  {
   "cell_type": "code",
   "execution_count": 6,
   "metadata": {},
   "outputs": [
    {
     "name": "stdout",
     "output_type": "stream",
     "text": [
      "[0.46279050000000005, 0.72708725]\n"
     ]
    }
   ],
   "source": [
    "p = [0.92, 0.95, 0.45, 0.15, 0.89, 0.98, 0.90, 0.8]\n",
    "step = 4\n",
    "\n",
    "y = []\n",
    "mean = p[0]\n",
    "beta = 0.9\n",
    "\n",
    "for i in range(0, len(p), 4):\n",
    "    #mean += p[i]\n",
    "    #mean *= 0.5\n",
    "    y.append((beta**0) * p[i + step - 1] + (beta**1) * p[i + step - 2] + (beta**3) * p[i + step - 3] + (beta**4) * p[i + step - 4])\n",
    "    y[-1] /= 4\n",
    "\n",
    "print(y)"
   ]
  },
  {
   "cell_type": "code",
   "execution_count": 7,
   "metadata": {},
   "outputs": [
    {
     "name": "stdout",
     "output_type": "stream",
     "text": [
      "0.757263671875\n"
     ]
    }
   ],
   "source": [
    "step = 4\n",
    "\n",
    "y = [p[0]]\n",
    "mean = p[0]\n",
    "momentum = 0.8\n",
    "\n",
    "for i in range(1, len(p)):\n",
    "    mean += p[i]\n",
    "    mean *= 0.5\n",
    "    y.append(momentum * p[i] + (1 - momentum) * mean)\n",
    "\n",
    "print(np.mean(y))"
   ]
  },
  {
   "cell_type": "code",
   "execution_count": 8,
   "metadata": {},
   "outputs": [],
   "source": [
    "# ransac (remove outliers)\n"
   ]
  }
 ],
 "metadata": {
  "kernelspec": {
   "display_name": "Python 3",
   "language": "python",
   "name": "python3"
  },
  "language_info": {
   "codemirror_mode": {
    "name": "ipython",
    "version": 3
   },
   "file_extension": ".py",
   "mimetype": "text/x-python",
   "name": "python",
   "nbconvert_exporter": "python",
   "pygments_lexer": "ipython3",
   "version": "3.7.4"
  }
 },
 "nbformat": 4,
 "nbformat_minor": 4
}
