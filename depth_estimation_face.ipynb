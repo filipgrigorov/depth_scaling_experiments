{
 "cells": [
  {
   "cell_type": "code",
   "execution_count": 1,
   "metadata": {},
   "outputs": [],
   "source": [
    "import cv2\n",
    "import matplotlib.pyplot as plt\n",
    "import numpy as np\n",
    "\n",
    "%matplotlib inline"
   ]
  },
  {
   "cell_type": "code",
   "execution_count": 2,
   "metadata": {},
   "outputs": [
    {
     "data": {
      "text/plain": [
       "<matplotlib.image.AxesImage at 0x7f06afd04990>"
      ]
     },
     "execution_count": 2,
     "metadata": {},
     "output_type": "execute_result"
    },
    {
     "data": {
      "image/png": "[encoded data removed]",
      "text/plain": [
       "<Figure size 432x288 with 1 Axes>"
      ]
     },
     "metadata": {
      "needs_background": "light"
     },
     "output_type": "display_data"
    }
   ],
   "source": [
    "data = 'depth_roi_data/depth_roi.png'\n",
    "depth_roi = cv2.imread(data, cv2.IMREAD_ANYDEPTH)\n",
    "\n",
    "plt.imshow(depth_roi, cmap='gray')"
   ]
  },
  {
   "cell_type": "code",
   "execution_count": 3,
   "metadata": {},
   "outputs": [],
   "source": [
    "def compute_histogram(img, nbins):\n",
    "    hist = np.zeros(shape=(nbins))\n",
    "    flat_img = img.ravel()\n",
    "    \n",
    "    for idx in range(0, flat_img.shape[0]):\n",
    "        if flat_img[idx] < nbins:\n",
    "            hist[flat_img[idx]] += 1\n",
    "        \n",
    "    return hist\n",
    "\n",
    "def smooth_out(hist, window_size=10):\n",
    "    kernel = np.ones(shape=(2 * window_size))\n",
    "    for i in range(0, hist.shape[0]):\n",
    "        summation = 0.0\n",
    "        count = 0\n",
    "        for j in range(-window_size, window_size):\n",
    "            idx = i + j\n",
    "            if idx < 0 or idx > hist.shape[0] - window_size:\n",
    "                continue\n",
    "            summation += kernel[j] * hist[i + j]\n",
    "            count += 1\n",
    "        hist[i] = summation // count\n",
    "        \n",
    "    return hist\n",
    "\n",
    "def find_separate_distributions(hist):\n",
    "    blobs = []\n",
    "    is_interrupted = False\n",
    "    start_idx = -1\n",
    "    for idx in range(0, hist.shape[0]):\n",
    "        curr_f = hist[idx]\n",
    "        if not is_interrupted and curr_f > 0:\n",
    "            print('Start of distribution')\n",
    "            is_interrupted = True\n",
    "            start_idx = idx\n",
    "            continue\n",
    "        if is_interrupted and curr_f == 0:\n",
    "            is_interrupted = False\n",
    "            if start_idx >= 0 and (idx - 1) > start_idx:\n",
    "                print('Identified a blob distribution')\n",
    "                blobs.append(hist[start_idx : idx - 1])\n",
    "    return blobs\n",
    "                \n",
    "def find_local_maxima(hist):\n",
    "    peaks = []\n",
    "    for idx in range(2, hist.shape[0] - 2):\n",
    "        curr_f = hist[idx]\n",
    "        prev_idx = idx - 1\n",
    "        next_idx  = idx + 1\n",
    "        prev_slope = (hist[idx] - hist[prev_idx]) / (idx - prev_idx)\n",
    "        next_slope = (hist[next_idx] - hist[idx]) / (next_idx - idx)\n",
    "        is_same_sign = (prev_slope > 0) == (next_slope > 0)\n",
    "        if not is_same_sign and curr_f > 0:\n",
    "            print('Found a local maximum')\n",
    "            peaks.append((curr_f, idx))\n",
    "    return peaks\n",
    "                \n",
    "#HWC\n",
    "def find_dominant_pxl_value(img):\n",
    "    rows = img.shape[0]\n",
    "    cols = img.shape[1]\n",
    "    print('Rows: ', rows)\n",
    "    print('Cols: ', cols)\n",
    "    c_x = img.shape[0] // 2\n",
    "    c_y = img.shape[1] // 2\n",
    "    print('({}, {})'.format(c_x, c_y))\n",
    "    pxl = img[c_y, c_x]\n",
    "    print('Center of image: ', pxl)\n",
    "    r = 1\n",
    "    while pxl == 0:\n",
    "        theta_degrees = np.random.uniform(low=0, high=360)\n",
    "        theta_rad = (np.pi * theta_degrees) / 180.0\n",
    "        x = np.cos(theta_rad) * r\n",
    "        y = np.sin(theta_rad) * r\n",
    "        \n",
    "        pxl = img[y, x]\n",
    "        \n",
    "    print('Random pixel chosen: ', pxl)\n",
    "    \n",
    "    diff_thresh = 100 #mm\n",
    "    mask = np.zeros_like(img)\n",
    "    for row in range(0, rows):\n",
    "        for col in range(0, cols):\n",
    "            if np.abs(img[row][col] - pxl) <= diff_thresh:\n",
    "                mask[row][col] = 1\n",
    "    non_zero = cv2.countNonZero(mask)\n",
    "    return mask, non_zero"
   ]
  },
  {
   "cell_type": "code",
   "execution_count": 4,
   "metadata": {},
   "outputs": [
    {
     "name": "stdout",
     "output_type": "stream",
     "text": [
      "Start of distribution\n",
      "Identified a blob distribution\n",
      "Start of distribution\n",
      "Identified a blob distribution\n",
      "Start of distribution\n",
      "Identified a blob distribution\n",
      "Start of distribution\n",
      "Identified a blob distribution\n",
      "Start of distribution\n",
      "Identified a blob distribution\n",
      "Start of distribution\n",
      "Identified a blob distribution\n",
      "Start of distribution\n",
      "Identified a blob distribution\n",
      "7\n"
     ]
    },
    {
     "data": {
      "image/png": "[encoded data removed]",
      "text/plain": [
       "<Figure size 432x288 with 1 Axes>"
      ]
     },
     "metadata": {
      "needs_background": "light"
     },
     "output_type": "display_data"
    },
    {
     "data": {
      "image/png": "[encoded data removed]",
      "text/plain": [
       "<Figure size 432x288 with 7 Axes>"
      ]
     },
     "metadata": {
      "needs_background": "light"
     },
     "output_type": "display_data"
    }
   ],
   "source": [
    "depth_hist = compute_histogram(depth_roi, nbins=65535)\n",
    "depth_hist = smooth_out(depth_hist)\n",
    "\n",
    "plt.xlim(300, 3000)\n",
    "plt.plot(depth_hist)\n",
    "\n",
    "blobs = find_separate_distributions(depth_hist)\n",
    "print(len(blobs))\n",
    "\n",
    "fig, axes = plt.subplots(1, len(blobs))\n",
    "for idx in range(0, len(blobs)):\n",
    "    axes[idx].plot(blobs[idx])"
   ]
  },
  {
   "cell_type": "code",
   "execution_count": 5,
   "metadata": {},
   "outputs": [
    {
     "name": "stdout",
     "output_type": "stream",
     "text": [
      "Found a local maximum\n",
      "Found a local maximum\n",
      "Found a local maximum\n",
      "Found a local maximum\n",
      "Found a local maximum\n",
      "Found a local maximum\n",
      "Found a local maximum\n",
      "Found a local maximum\n",
      "[(832.0, 515), (431.0, 492), (431.0, 493), (1.0, 4261), (1.0, 4279), (1.0, 4315), (1.0, 4352), (1.0, 4371)]\n",
      "[515]\n"
     ]
    }
   ],
   "source": [
    "peaks = find_local_maxima(depth_hist)\n",
    "peaks = sorted(peaks, key=lambda pair: pair[0], reverse=True)\n",
    "print(peaks)\n",
    "win = 30 # mm\n",
    "min_acceptable_freq = 30\n",
    "filtered_peaks = [peaks[0][1]]\n",
    "max_f = peaks[0][0]\n",
    "for idx in range(1, len(peaks)):\n",
    "    if np.abs(filtered_peaks[-1] - peaks[idx][1]) > win:\n",
    "        if peaks[idx][0] > min_acceptable_freq:\n",
    "            filtered_peaks.append(peaks[idx])\n",
    "    else:\n",
    "        if np.abs(max_f - peaks[idx][0]) <= min_acceptable_freq:\n",
    "            filtered_peaks[-1] = (filtered_peaks[-1] + peaks[idx][1]) / 2.0\n",
    "print(filtered_peaks)"
   ]
  },
  {
   "cell_type": "code",
   "execution_count": 6,
   "metadata": {},
   "outputs": [
    {
     "name": "stdout",
     "output_type": "stream",
     "text": [
      "Rows:  259\n",
      "Cols:  173\n",
      "(129, 86)\n",
      "Center of image:  509\n",
      "Random pixel chosen:  509\n"
     ]
    },
    {
     "name": "stderr",
     "output_type": "stream",
     "text": [
      "/home/filipgrigorov/anaconda3/envs/ml/lib/python3.7/site-packages/ipykernel_launcher.py:84: RuntimeWarning: overflow encountered in ushort_scalars\n"
     ]
    },
    {
     "name": "stdout",
     "output_type": "stream",
     "text": [
      "Non zero:  25211\n",
      "Zero:  19596\n",
      "Dominant pixel value: 529.5 mm\n",
      "14.457062393399724\n",
      "37.457062393399724\n",
      "36.457062393399724\n",
      "3731.5429376066004\n",
      "3749.5429376066004\n",
      "3785.5429376066004\n",
      "3822.5429376066004\n",
      "3841.5429376066004\n",
      "[(515, 14.457062393399724), (492, 37.457062393399724), (493, 36.457062393399724)]\n"
     ]
    },
    {
     "data": {
      "image/png": "[encoded data removed]",
      "text/plain": [
       "<Figure size 432x288 with 1 Axes>"
      ]
     },
     "metadata": {
      "needs_background": "light"
     },
     "output_type": "display_data"
    }
   ],
   "source": [
    "mask, non_zero_pxls = find_dominant_pxl_value(depth_roi)\n",
    "dom_d = np.mean(depth_roi[mask == 1])\n",
    "\n",
    "plt.imshow(mask, cmap='gray')\n",
    "print('Non zero: ', non_zero_pxls)\n",
    "print('Zero: ', depth_roi.shape[0] * depth_roi.shape[1] - non_zero_pxls)\n",
    "print('Dominant pixel value: {:.4} mm'.format(dom_d))\n",
    "\n",
    "thresh = 50 # mm\n",
    "\n",
    "dom_peaks = []\n",
    "for idx in range(0, len(peaks)):\n",
    "    rmse = np.sqrt((peaks[idx][1] - dom_d)**2)\n",
    "    print(rmse)\n",
    "    if rmse < thresh:\n",
    "        dom_peaks.append((peaks[idx][1], rmse))\n",
    "sorted(dom_peaks, key=lambda p: p[1])\n",
    "\n",
    "print(dom_peaks)"
   ]
  },
  {
   "cell_type": "code",
   "execution_count": 7,
   "metadata": {},
   "outputs": [
    {
     "data": {
      "text/plain": [
       "[<matplotlib.lines.Line2D at 0x7f06ace89a10>]"
      ]
     },
     "execution_count": 7,
     "metadata": {},
     "output_type": "execute_result"
    },
    {
     "data": {
      "image/png": "[encoded data removed]",
      "text/plain": [
       "<Figure size 720x720 with 1 Axes>"
      ]
     },
     "metadata": {
      "needs_background": "light"
     },
     "output_type": "display_data"
    }
   ],
   "source": [
    "fig = plt.figure(figsize=(10, 10))\n",
    "\n",
    "range_vals = list(range(300, 3000))\n",
    "\n",
    "ax1 = fig.add_subplot(1, 1, 1)\n",
    "ax1.set_title('onyx')\n",
    "ax1.set_ylabel('Frequency')\n",
    "ax1.set_xlabel('Bins')\n",
    "ax1.set_xlim([range_vals[0], range_vals[-1]])\n",
    "ax1.set_ylim([0, np.max(depth_hist[range_vals])])\n",
    "ax1.plot(depth_hist, color='black')"
   ]
  },
  {
   "cell_type": "code",
   "execution_count": null,
   "metadata": {},
   "outputs": [],
   "source": []
  }
 ],
 "metadata": {
  "kernelspec": {
   "display_name": "Python 3",
   "language": "python",
   "name": "python3"
  },
  "language_info": {
   "codemirror_mode": {
    "name": "ipython",
    "version": 3
   },
   "file_extension": ".py",
   "mimetype": "text/x-python",
   "name": "python",
   "nbconvert_exporter": "python",
   "pygments_lexer": "ipython3",
   "version": "3.7.3"
  }
 },
 "nbformat": 4,
 "nbformat_minor": 4
}
